{
 "cells": [
  {
   "cell_type": "code",
   "execution_count": 2,
   "metadata": {},
   "outputs": [],
   "source": [
    "import os\n",
    "from openai import OpenAI"
   ]
  },
  {
   "cell_type": "code",
   "execution_count": 3,
   "metadata": {},
   "outputs": [],
   "source": [
    "# Get API key from environment variable\n",
    "client = OpenAI(api_key=\"API_KEY\")  # Replace with your full API key"
   ]
  },
  {
   "cell_type": "code",
   "execution_count": 4,
   "metadata": {},
   "outputs": [],
   "source": [
    "def read_file_content(file_path):\n",
    "    with open(file_path, 'r', encoding='utf-8') as f:\n",
    "        return f.read()"
   ]
  },
  {
   "cell_type": "code",
   "execution_count": 517,
   "metadata": {},
   "outputs": [],
   "source": [
    "def DMN_Guided_Prompting(dmn_content, case_text):\n",
    "  prompt = \"\"\"\n",
    "You are given three inputs:\n",
    "\n",
    "1. A DMN file in XML format. It may contain one or more decision tables.  \n",
    "2. A natural language description of a customer case.  \n",
    "3. (Optional) An example input illustrating what such descriptions typically look like.  \n",
    "\n",
    "Your task is to extract the decision logic from the DMN and reason through the customer case using the following steps.\n",
    "\n",
    "---\n",
    "\n",
    "### Phase 1: Extract Decision Logic from the DMN\n",
    "\n",
    "From the DMN file:\n",
    "- Identify each decision rule (preferably using annotations as rule names).\n",
    "- For each rule, extract a structured dictionary entry as follows:\n",
    "\n",
    "```json\n",
    "{\n",
    "  \"Rule Name\": {\n",
    "    \"input\": [list of required input field names],\n",
    "    \"Decision table\": {\n",
    "      \"name\": \"<decision table name>\",\n",
    "      \"content\": \"<decision table XML snippet>\"\n",
    "    },\n",
    "    \"Literal expression\": {\n",
    "      \"name\": \"<output name>\",\n",
    "      \"content\": \"<list of outcomes and corresponding messages>\"\n",
    "    }\n",
    "  }\n",
    "}\n",
    "\n",
    "---\n",
    "\n",
    "### Phase 2: Process Each Entry Using Natural Language Input\n",
    "\n",
    "For each extracted entry:\n",
    "\n",
    "**Step 1: Extract Input Values**\n",
    "- Identify the required input fields from the \"input\" list.\n",
    "- From the natural language text, extract the values for those fields (even if not in key-value format).\n",
    "\n",
    "**Step 2: Evaluate the Decision Table**\n",
    "- Evaluate input values strictly according to the decision table logic, any values shall be treated accordingly (numbers below are examples):\n",
    "    - [40..50] means inclusive of 40 and 50.\n",
    "    - (40..50) means exclusive of both 40 and 50.\n",
    "    - ]40..50[ means exclusive of both 40 and 50.\n",
    "    - [40..50) means inclusive of 40, exclusive of 50 (and so on).\n",
    "    - [40..50[ means inclusive of 40, exclusive of 50 (and so on).  \n",
    "    - Do not round or approximate values. For instance, 39 must not match [40..50].\n",
    "- Identify the outcome name for the matching rule.\n",
    "\n",
    "**Step 3: Retrieve the Corresponding Literal Expression**\n",
    "- Use the outcome name concatenate it with '_message' and look at the message instruction written in the `\"Literal expression\"` entry.\n",
    "\n",
    "**Step 4: Generate the Replies**\n",
    "- return the message exactly as written, without any change.\n",
    "- generate a list named **result** include all generated messages, i.e., \"result\": [\n",
    "\n",
    "---\n",
    "\n",
    "### Output Format\n",
    "return only the result list.\n",
    "\n",
    "\n",
    "\"\"\"\n",
    "\n",
    "  response = client.chat.completions.create(\n",
    "      model=\"gpt-4o\",\n",
    "      messages=[\n",
    "              {\"role\": \"system\", \"content\": \"You are a DMN expert.\"},\n",
    "              {\"role\": \"user\", \"content\": prompt + \n",
    "                  \"\\n\\n--- DMN FILE START ---\\n\" + dmn_content + \"\\n--- DMN FILE END ---\" + \n",
    "                  \"\\n\\n--- natural language text START ---\\n\" + case_text + \"\\n--- natural language text END ---\"\n",
    "              }\n",
    "          ],\n",
    "      temperature=0,\n",
    "  )\n",
    "  return response.choices[0].message.content"
   ]
  },
  {
   "cell_type": "code",
   "execution_count": 518,
   "metadata": {},
   "outputs": [
    {
     "name": "stdout",
     "output_type": "stream",
     "text": [
      "```json\n",
      "[\n",
      "    \"We’d like to inform you that your application has been processed and requires a manual review. We will update you as soon as the review is complete.\"\n",
      "]\n",
      "```\n"
     ]
    }
   ],
   "source": [
    "# Define project root\n",
    "PROJECT_ROOT = os.path.abspath(os.path.join(os.path.dirname(__file__), '..', '..'))\n",
    "\n",
    "# # read dmn file and loan_approval_test1 from project root\n",
    "dmn_content = read_file_content(os.path.join(PROJECT_ROOT, 'src', 'process_feedback', 'loan_approval.dmn'))\n",
    "txt_content = read_file_content(os.path.join(PROJECT_ROOT, 'src', 'feedback_example', 'loan_approval_test1.txt'))\n",
    "\n",
    "rule1_info = DMN_Guided_Prompting(dmn_content,txt_content)\n",
    "print(rule1_info)"
   ]
  },
  {
   "cell_type": "code",
   "execution_count": 519,
   "metadata": {},
   "outputs": [
    {
     "name": "stdout",
     "output_type": "stream",
     "text": [
      "```json\n",
      "[\n",
      "  \"We're pleased to inform you that your loan application has been approved. Congratulations!\"\n",
      "]\n",
      "```\n"
     ]
    }
   ],
   "source": [
    "# read dmn file and loan_approval_test2 from project root\n",
    "dmn_content = read_file_content(os.path.join(PROJECT_ROOT, 'src', 'process_feedback', 'loan_approval.dmn'))\n",
    "txt_content = read_file_content(os.path.join(PROJECT_ROOT, 'src', 'feedback_example', 'loan_approval_test2.txt'))\n",
    "\n",
    "rule1_info = DMN_Guided_Prompting(dmn_content,txt_content)\n",
    "print(rule1_info)"
   ]
  },
  {
   "cell_type": "code",
   "execution_count": 520,
   "metadata": {},
   "outputs": [
    {
     "name": "stdout",
     "output_type": "stream",
     "text": [
      "```json\n",
      "[\n",
      "    \"We regret to inform you that your loan application has not been approved due to either insufficient income or credit score. If you have any questions or would like further clarification, please feel free to contact us.\"\n",
      "]\n",
      "```\n"
     ]
    }
   ],
   "source": [
    "# # read dmn file and loan_approval_test3 from project root\n",
    "dmn_content = read_file_content(os.path.join(PROJECT_ROOT, 'src', 'process_feedback', 'loan_approval.dmn'))\n",
    "txt_content = read_file_content(os.path.join(PROJECT_ROOT, 'src', 'feedback_example', 'loan_approval_test3.txt'))\n",
    "\n",
    "rule1_info = DMN_Guided_Prompting(dmn_content,txt_content)\n",
    "print(rule1_info)"
   ]
  }
 ],
 "metadata": {
  "kernelspec": {
   "display_name": ".venv",
   "language": "python",
   "name": "python3"
  },
  "language_info": {
   "codemirror_mode": {
    "name": "ipython",
    "version": 3
   },
   "file_extension": ".py",
   "mimetype": "text/x-python",
   "name": "python",
   "nbconvert_exporter": "python",
   "pygments_lexer": "ipython3",
   "version": "3.11.9"
  }
 },
 "nbformat": 4,
 "nbformat_minor": 2
}
